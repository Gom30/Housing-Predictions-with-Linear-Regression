{
  "nbformat": 4,
  "nbformat_minor": 0,
  "metadata": {
    "colab": {
      "provenance": [],
      "authorship_tag": "ABX9TyN6efb23Uox052zeYLFdhO/",
      "include_colab_link": true
    },
    "kernelspec": {
      "name": "python3",
      "display_name": "Python 3"
    },
    "language_info": {
      "name": "python"
    }
  },
  "cells": [
    {
      "cell_type": "markdown",
      "metadata": {
        "id": "view-in-github",
        "colab_type": "text"
      },
      "source": [
        "<a href=\"https://colab.research.google.com/github/Gom30/Housing-Predictions-with-Linear-Regression/blob/main/Datastructure_py.ipynb\" target=\"_parent\"><img src=\"https://colab.research.google.com/assets/colab-badge.svg\" alt=\"Open In Colab\"/></a>"
      ]
    },
    {
      "cell_type": "code",
      "source": [
        " #Question 1:\n",
        "sample_list = [2, 3, 6]\n",
        "result = 1\n",
        "for item in sample_list:\n",
        "    result *= item\n",
        "print(\"Result =\", result)\n",
        "\n",
        "#Question 2:\n",
        "def sort_by_last_element(tuples_list):\n",
        "    # Sort the list by the last element of each tuple\n",
        "    tuples_list.sort(key=lambda x: x[-1])\n",
        "    return tuples_list\n",
        "\n",
        " # Sample input\n",
        "sample_list = [(2, 5), (1, 2), (4, 4), (2, 3), (2, 1)]\n",
        "\n",
        "# Call the function and print the result\n",
        "sorted_list = sort_by_last_element(sample_list)\n",
        "print(\"Sorted list:\", sorted_list)\n",
        "\n",
        "#Question 3:\n",
        "def combine_dictionaries(d1, d2):\n",
        "    combined = d1.copy()  # Start with a copy of the first dictionary\n",
        "    for key, value in d2.items():\n",
        "        if key in combined:\n",
        "            combined[key] += value  # Add values for common keys\n",
        "        else:\n",
        "            combined[key] = value  # Add new key-value pairs\n",
        "    return combined\n",
        "\n",
        "# Sample input\n",
        "d1 = {'a': 100, 'b': 200, 'c': 300}\n",
        "d2 = {'a': 300, 'b': 200, 'd': 400}\n",
        "\n",
        "# Call the function and print the result\n",
        "result = combine_dictionaries(d1, d2)\n",
        "print(\"Combined dictionary:\", result)\n",
        "\n",
        "#Question 4:\n",
        "n= 8\n",
        "for i in range(1, n+1):\n",
        "  result_dict = {}\n",
        "n= int(input(\"Enter a number: \"))\n",
        "for i in range(1, n+1):\n",
        "        result_dict[i] = i* i\n",
        "print(result_dict)\n",
        "\n",
        "#Question 5:\n",
        "def sort_by_float_element(item_list):\n",
        "    # Sort using float conversion of the second element in each tuple\n",
        "    return sorted(item_list, key=lambda x: float(x[1]), reverse=True)\n",
        "\n",
        "# Sample input\n",
        "item_list = [('item1', '12.20'), ('item2', '15.10'), ('item3', '24.5')]\n",
        "\n",
        "# Call the function and print the result\n",
        "sorted_list = sort_by_float_element(item_list)\n",
        "print(\"Sorted list:\", sorted_list)\n",
        "\n",
        "#Question 6:This program covers how to create a set, iterate through it, add new items, and safely remove items.\n",
        "#Creating a set\n",
        "my_set = {0, 1, 2, 3, 4}\n",
        "print(\"Created set:\", my_set)\n",
        "\n",
        "# Iterating over the set\n",
        "for item in my_set:\n",
        "    print(item)\n",
        "\n",
        "# Adding an item to the set\n",
        "my_set.add(5)  # Adds 5 to the set\n",
        "print(\"Set after adding 5:\", my_set)\n",
        "\n",
        "# Removing an item from the set\n",
        "my_set.remove(3)  # Removes 3 from the set\n",
        "print(\"Set after removing 3:\", my_set)\n",
        "\n",
        "# Removing an item safely (if it exists)\n",
        "my_set.discard(10)  # 10 doesn't exist, so no error occurs\n",
        "print(\"Set after discarding 10:\", my_set)\n",
        "\n"
      ],
      "metadata": {
        "colab": {
          "base_uri": "https://localhost:8080/"
        },
        "id": "GdzgsxjUdKPm",
        "outputId": "605b6c4a-df40-4415-d30b-9f56ea274580"
      },
      "execution_count": 3,
      "outputs": [
        {
          "output_type": "stream",
          "name": "stdout",
          "text": [
            "Result = 36\n",
            "Sorted list: [(2, 1), (1, 2), (2, 3), (4, 4), (2, 5)]\n",
            "Combined dictionary: {'a': 400, 'b': 400, 'c': 300, 'd': 400}\n",
            "Enter a number: 8\n",
            "{1: 1, 2: 4, 3: 9, 4: 16, 5: 25, 6: 36, 7: 49, 8: 64}\n",
            "Sorted list: [('item3', '24.5'), ('item2', '15.10'), ('item1', '12.20')]\n",
            "Created set: {0, 1, 2, 3, 4}\n",
            "0\n",
            "1\n",
            "2\n",
            "3\n",
            "4\n",
            "Set after adding 5: {0, 1, 2, 3, 4, 5}\n",
            "Set after removing 3: {0, 1, 2, 4, 5}\n",
            "Set after discarding 10: {0, 1, 2, 4, 5}\n"
          ]
        }
      ]
    }
  ]
}