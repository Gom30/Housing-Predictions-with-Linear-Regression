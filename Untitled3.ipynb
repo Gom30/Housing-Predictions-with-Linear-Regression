{
  "nbformat": 4,
  "nbformat_minor": 0,
  "metadata": {
    "colab": {
      "provenance": [],
      "authorship_tag": "ABX9TyNuTx79JYy/qFgOgNX0Bxu+",
      "include_colab_link": true
    },
    "kernelspec": {
      "name": "python3",
      "display_name": "Python 3"
    },
    "language_info": {
      "name": "python"
    }
  },
  "cells": [
    {
      "cell_type": "markdown",
      "metadata": {
        "id": "view-in-github",
        "colab_type": "text"
      },
      "source": [
        "<a href=\"https://colab.research.google.com/github/Gom30/Housing-Predictions-with-Linear-Regression/blob/main/Untitled3.ipynb\" target=\"_parent\"><img src=\"https://colab.research.google.com/assets/colab-badge.svg\" alt=\"Open In Colab\"/></a>"
      ]
    },
    {
      "cell_type": "code",
      "execution_count": 5,
      "metadata": {
        "colab": {
          "base_uri": "https://localhost:8080/"
        },
        "id": "QyK5IVwvZHVc",
        "outputId": "4f220290-e771-4801-b971-547bef1ab345"
      },
      "outputs": [
        {
          "output_type": "stream",
          "name": "stdout",
          "text": [
            "APOD Image URL: https://apod.nasa.gov/apod/image/2505/Crab_Webb_998.jpg\n",
            "   Asteroid ID                Asteroid Name  Estimated Diameter  \\\n",
            "0      2000433           433 Eros (A898 PA)           22.006703   \n",
            "1      2000719         719 Albert (A911 TB)            2.025606   \n",
            "2      2000887         887 Alinda (A918 AA)            4.597852   \n",
            "3      2001036       1036 Ganymed (A924 UB)           38.775283   \n",
            "4      2001221         1221 Amor (1932 EA1)            0.892391   \n",
            "5      2001566        1566 Icarus (1949 MA)            1.301832   \n",
            "6      2001580       1580 Betulia (1950 KA)            3.094247   \n",
            "7      2001620    1620 Geographos (1951 RA)            2.347226   \n",
            "8      2001627          1627 Ivar (1929 SH)            7.320740   \n",
            "9      2001685          1685 Toro (1948 OA)            3.703011   \n",
            "10     2001862        1862 Apollo (1932 HA)            1.616423   \n",
            "11     2001863      1863 Antinous (1948 EA)            2.150577   \n",
            "12     2001864      1864 Daedalus (1971 FA)            2.861245   \n",
            "13     2001865      1865 Cerberus (1971 UA)            1.165615   \n",
            "14     2001866      1866 Sisyphus (1972 XA)            8.444131   \n",
            "15     2001915  1915 Quetzalcoatl (1953 EA)            0.560473   \n",
            "16     2001916        1916 Boreas (1953 RA)            2.732467   \n",
            "17     2001917          1917 Cuyo (1968 AA)            3.536348   \n",
            "18     2001943       1943 Anteros (1973 EC)            1.934439   \n",
            "19     2001980  1980 Tezcatlipoca (1950 LA)            4.597852   \n",
            "\n",
            "    Absolute_magnitude Relative Velocity(km/s)  \n",
            "0                10.41            5.5786191875  \n",
            "1                15.59             3.446029003  \n",
            "2                13.81            7.0959734649  \n",
            "3                 9.18            6.3038664111  \n",
            "4                17.37           10.7701740589  \n",
            "5                16.55           27.0080710025  \n",
            "6                14.67           11.3576547566  \n",
            "7                15.27           11.7628121919  \n",
            "8                12.80            6.5498704711  \n",
            "9                14.28           16.1350819976  \n",
            "10               16.08           11.6407133456  \n",
            "11               15.46           18.0795126569  \n",
            "12               14.84           21.1217901485  \n",
            "13               16.79           15.3278825687  \n",
            "14               12.49           23.0737678813  \n",
            "15               18.38            15.120986141  \n",
            "16               14.94                          \n",
            "17               14.38           15.2344898317  \n",
            "18               15.69            7.2023034001  \n",
            "19               13.81                          \n"
          ]
        }
      ],
      "source": [
        "import requests\n",
        "\n",
        "import pandas as pd\n",
        "\n",
        "# NASA APOD (Astronomy Picture of the Day) API endpoint\n",
        "apod_url = \"https://api.nasa.gov/planetary/apod\"\n",
        "\n",
        "api_key = \"dVDHgLKrjHlP1wg55fXdDie1wIyTb84oDGhJANQb\"\n",
        "\n",
        "# Parameters for the APOD request\n",
        "apod_params = {\n",
        "    \"api_key\": api_key,\n",
        "}\n",
        "\n",
        "# Requesting APOD data\n",
        "apod_response = requests.get(apod_url, params=apod_params)\n",
        "\n",
        "apod_data = apod_response.json()\n",
        "\n",
        "# Display APOD image URL\n",
        "image_url = apod_data.get(\"url\")\n",
        "\n",
        "print(\"APOD Image URL:\", image_url)\n",
        "\n",
        "# Download and save the APOD image\n",
        "image_content = requests.get(image_url).content\n",
        "\n",
        "with open(\"apod_astronomy.jpg\", \"wb\") as file:\n",
        "\n",
        "    file.write(image_content)\n",
        "\n",
        "# Neo (Near Earth Objects) API endpoint\n",
        "\n",
        "neo_url = \"https://api.nasa.gov/neo/rest/v1/neo/browse\"\n",
        "\n",
        "# Requesting NEO data\n",
        "neo_response = requests.get(neo_url, params=apod_params)\n",
        "\n",
        "neo_data = neo_response.json()\n",
        "\n",
        "# Extracting asteroid data\n",
        "asteroids_list = []\n",
        "\n",
        "for asteroid in neo_data[\"near_earth_objects\"]:\n",
        "\n",
        "    if asteroid[\"close_approach_data\"]:\n",
        "        asteroid_details = {\n",
        "            \"Asteroid ID\": asteroid[\"id\"],\n",
        "            \"Asteroid Name\": asteroid[\"name\"],\n",
        "            \"Estimated Diameter\": asteroid[\"estimated_diameter\"] [\"kilometers\"] [\"estimated_diameter_min\"],\n",
        "            \"Absolute_magnitude\": asteroid[\"absolute_magnitude_h\"],\n",
        "            \"Relative Velocity(km/s)\": asteroid[\"close_approach_data\"][0][\"relative_velocity\"][\"kilometers_per_second\"]\n",
        "\n",
        "        }\n",
        "        #append each detail to the main list\n",
        "        asteroids_list.append(asteroid_details)\n",
        "\n",
        "\n",
        "\n",
        "    else:\n",
        "        asteroid_details = {\n",
        "            \"Asteroid ID\": asteroid[\"id\"],\n",
        "            \"Asteroid Name\": asteroid[\"name\"],\n",
        "            \"Estimated Diameter\": asteroid[\"estimated_diameter\"] [\"kilometers\"] [\"estimated_diameter_min\"],\n",
        "            \"Absolute_magnitude\": asteroid[\"absolute_magnitude_h\"],\n",
        "            \"Relative Velocity(km/s)\": \"\"\n",
        "\n",
        "    }\n",
        "        asteroids_list.append(asteroid_details)\n",
        "\n",
        "\n",
        "\n",
        "# Convert to DataFrame and display\n",
        "df = pd.DataFrame(asteroids_list)\n",
        "print(df)\n",
        "\n",
        "\n",
        "# save to CSV\n",
        "df.to_csv(\"asteroid_data.csv\", index=False)"
      ]
    },
    {
      "cell_type": "code",
      "source": [],
      "metadata": {
        "id": "KxtU_OcscfBk"
      },
      "execution_count": null,
      "outputs": []
    }
  ]
}