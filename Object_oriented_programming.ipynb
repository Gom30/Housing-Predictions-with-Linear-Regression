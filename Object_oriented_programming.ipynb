{
  "nbformat": 4,
  "nbformat_minor": 0,
  "metadata": {
    "colab": {
      "provenance": [],
      "authorship_tag": "ABX9TyMpp4ckfY2ayMu1YnBL6Sgn",
      "include_colab_link": true
    },
    "kernelspec": {
      "name": "python3",
      "display_name": "Python 3"
    },
    "language_info": {
      "name": "python"
    }
  },
  "cells": [
    {
      "cell_type": "markdown",
      "metadata": {
        "id": "view-in-github",
        "colab_type": "text"
      },
      "source": [
        "<a href=\"https://colab.research.google.com/github/Gom30/Housing-Predictions-with-Linear-Regression/blob/main/Object_oriented_programming.ipynb\" target=\"_parent\"><img src=\"https://colab.research.google.com/assets/colab-badge.svg\" alt=\"Open In Colab\"/></a>"
      ]
    },
    {
      "cell_type": "code",
      "execution_count": 1,
      "metadata": {
        "colab": {
          "base_uri": "https://localhost:8080/"
        },
        "id": "Gd6ixaT2ZqoX",
        "outputId": "38923d00-15b1-496c-f894-643afcc87d7b"
      },
      "outputs": [
        {
          "output_type": "stream",
          "name": "stdout",
          "text": [
            "You have just desposited 500.0 and your new balance is 800.0\n",
            "You have withdrawn 200 and your new balance is 600.0\n",
            "Your account balance is 600.0\n"
          ]
        }
      ],
      "source": [
        "class Account:\n",
        "    def __init__(self, account_number: str, account_holder: str, account_balance: float = 0.0):\n",
        "        self.account_number = account_number\n",
        "        self.account_holder = account_holder\n",
        "        self.account_balance = account_balance\n",
        "\n",
        "\n",
        "    def deposit(self, desposit_amount: float):\n",
        "        self.account_balance += desposit_amount\n",
        "        return f\"You have just desposited {desposit_amount} and your new balance is {self.account_balance}\"\n",
        "\n",
        "    def withdrawal(self, withdrawal_amount: float):\n",
        "        if self.account_balance > withdrawal_amount:\n",
        "            self.account_balance -= withdrawal_amount\n",
        "            return f\"You have withdrawn {withdrawal_amount} and your new balance is {self.account_balance}\"\n",
        "        else:\n",
        "            return f\"Insufficient funds\"\n",
        "\n",
        "    def check_balance(self):\n",
        "        return f\"Your account balance is {self.account_balance}\"\n",
        "\n",
        "    def update_details(self, new_name):\n",
        "       self.account_holder = new_name\n",
        "       return f\"You have successfully changed your name to {self.account_holder}\"\n",
        "\n",
        "\n",
        "    def __str__(self):\n",
        "        return f\"Account name: {self.account_holder}\\nAccount Number: {self.account_number}\"\n",
        "\n",
        "\n",
        "# #instantiating the class\n",
        "my_account = Account(\"123456789\", \"Brianna Gom\")\n",
        "my_account.deposit(500)\n",
        "my_account.withdrawal(200)\n",
        "my_account.check_balance()\n",
        "\n",
        "print(my_account.deposit(500.00))\n",
        "print(my_account.withdrawal(200))\n",
        "print(my_account.check_balance())\n",
        "\n",
        "\n",
        "\n",
        ""
      ]
    }
  ]
}