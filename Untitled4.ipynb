{
  "nbformat": 4,
  "nbformat_minor": 0,
  "metadata": {
    "colab": {
      "provenance": [],
      "authorship_tag": "ABX9TyPmCjlKfSFybeIWXBgkhT2/",
      "include_colab_link": true
    },
    "kernelspec": {
      "name": "python3",
      "display_name": "Python 3"
    },
    "language_info": {
      "name": "python"
    }
  },
  "cells": [
    {
      "cell_type": "markdown",
      "metadata": {
        "id": "view-in-github",
        "colab_type": "text"
      },
      "source": [
        "<a href=\"https://colab.research.google.com/github/Gom30/Housing-Predictions-with-Linear-Regression/blob/main/Untitled4.ipynb\" target=\"_parent\"><img src=\"https://colab.research.google.com/assets/colab-badge.svg\" alt=\"Open In Colab\"/></a>"
      ]
    },
    {
      "cell_type": "code",
      "execution_count": 1,
      "metadata": {
        "colab": {
          "base_uri": "https://localhost:8080/"
        },
        "id": "MQsslKszHhc-",
        "outputId": "d5ba4f13-d849-4787-f761-61a2354b1be8"
      },
      "outputs": [
        {
          "output_type": "stream",
          "name": "stdout",
          "text": [
            "87.5\n",
            "88.5\n",
            "6.591661399070799\n",
            "98\n",
            "75\n",
            "[75 80 83 85 88 89 90 92 95 98]\n",
            "7\n",
            "3\n",
            "30.0 %\n",
            "0.0 %\n",
            "[92 95 98]\n",
            "[85 90 88 92 95 80 98 89 83]\n"
          ]
        }
      ],
      "source": [
        "# # 1.\n",
        "import numpy as np\n",
        "grades = np.array([85, 90, 88, 92, 95, 80, 75, 98, 89, 83])\n",
        "\n",
        "# 2. Mean, Median, Std\n",
        "aa = np.mean(grades)\n",
        "\n",
        "\n",
        "bb = np.median(grades)\n",
        "\n",
        "cc = np.std(grades)\n",
        "\n",
        "# 3.\n",
        "\n",
        "dd = np.max(grades)\n",
        "\n",
        "ee = np.min(grades)\n",
        "\n",
        "# 4.\n",
        "ff = np.sort(grades)\n",
        "\n",
        "# 5.\n",
        "gg = np.argmax(grades)\n",
        "\n",
        "# 6.\n",
        "scored_above_90 = grades[grades > 90]\n",
        "hh = np.count_nonzero(scored_above_90)\n",
        "\n",
        "\n",
        "# 7.\n",
        "ii = np.mean(grades > 90)*100\n",
        "\n",
        "# 8.\n",
        "jj = np.mean(grades < 75)*100\n",
        "\n",
        "# 9.\n",
        "high_performers = grades[grades > 90]\n",
        "# high_performers = np.array([grades > 90])\n",
        "\n",
        "\n",
        "# 10.\n",
        "passing_grades = grades[grades > 75]\n",
        "\n",
        "# 11\n",
        "\n",
        "print(aa)\n",
        "print(bb)\n",
        "print(cc)\n",
        "print(dd)\n",
        "print(ee)\n",
        "print(ff)\n",
        "print(gg)\n",
        "print(hh)\n",
        "print(ii,'%')\n",
        "print(jj,'%')\n",
        "print(high_performers)\n",
        "print(passing_grades)"
      ]
    }
  ]
}